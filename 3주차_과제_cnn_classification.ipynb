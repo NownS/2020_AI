{
  "nbformat": 4,
  "nbformat_minor": 0,
  "metadata": {
    "colab": {
      "name": "3주차 과제-cnn-classification",
      "provenance": [],
      "collapsed_sections": [],
      "authorship_tag": "ABX9TyMRfd7M2ayAbpr24H4W+vkk",
      "include_colab_link": true
    },
    "kernelspec": {
      "name": "python3",
      "display_name": "Python 3"
    },
    "accelerator": "GPU"
  },
  "cells": [
    {
      "cell_type": "markdown",
      "metadata": {
        "id": "view-in-github",
        "colab_type": "text"
      },
      "source": [
        "<a href=\"https://colab.research.google.com/github/NownS/2020_AI/blob/master/3%EC%A3%BC%EC%B0%A8_%EA%B3%BC%EC%A0%9C_cnn_classification.ipynb\" target=\"_parent\"><img src=\"https://colab.research.google.com/assets/colab-badge.svg\" alt=\"Open In Colab\"/></a>"
      ]
    },
    {
      "cell_type": "code",
      "metadata": {
        "id": "EyY-RpJfnSHW",
        "colab_type": "code",
        "colab": {}
      },
      "source": [
        "import tensorflow as tf\n",
        "import keras"
      ],
      "execution_count": 1,
      "outputs": []
    },
    {
      "cell_type": "code",
      "metadata": {
        "id": "OAB2BABLpJ4n",
        "colab_type": "code",
        "colab": {}
      },
      "source": [
        "from keras.models import Sequential\n",
        "from keras.layers import Conv2D, Dense, Flatten, MaxPooling2D, AveragePooling2D\n",
        "from keras.optimizers import Adam\n",
        "from keras.losses import sparse_categorical_crossentropy as scc\n",
        "\n",
        "from keras.datasets import cifar10\n",
        "\n",
        "import numpy as np\n",
        "import matplotlib.pyplot as plt"
      ],
      "execution_count": 2,
      "outputs": []
    },
    {
      "cell_type": "code",
      "metadata": {
        "id": "MiQ1MLlUpRWx",
        "colab_type": "code",
        "colab": {}
      },
      "source": [
        "def build_model(width, height, channel):\n",
        "    model = Sequential()\n",
        "\n",
        "    model.add(Conv2D(filters=16, kernel_size=(3,3), padding='same', activation='relu', input_shape=(width, height, channel)))\n",
        "    model.add(Conv2D(filters=16, kernel_size=(3,3), padding='same', activation='relu'))\n",
        "    model.add(MaxPooling2D(pool_size=(2,2), padding='same'))\n",
        "    \n",
        "    model.add(Conv2D(filters=32, kernel_size=(3,3), padding='same', activation='relu'))\n",
        "    model.add(MaxPooling2D(pool_size=(2,2), padding='same'))\n",
        "    \n",
        "    model.add(Conv2D(filters=64, kernel_size=(3,3), padding='same', activation='relu'))\n",
        "    model.add(AveragePooling2D(pool_size=(8,8), padding='same'))\n",
        "    \n",
        "    model.add(Flatten())\n",
        "    model.add(Dense(units=640, activation='relu'))\n",
        "    model.add(Dense(units=10, activation='softmax'))\n",
        "\n",
        "    opt = Adam(learning_rate=0.001)\n",
        "    model.compile(optimizer=opt, loss=scc, metrics=['accuracy'])\n",
        "\n",
        "    return model"
      ],
      "execution_count": 3,
      "outputs": []
    },
    {
      "cell_type": "code",
      "metadata": {
        "id": "zJ-9RYFJ4bxI",
        "colab_type": "code",
        "colab": {
          "base_uri": "https://localhost:8080/",
          "height": 35
        },
        "outputId": "d3e81412-831f-4f03-fd8b-eb8e1cb2b898"
      },
      "source": [
        "(x_train, y_train), (x_test, y_test) = cifar10.load_data()\n",
        "\n",
        "print(x_train.shape)\n",
        "\n",
        "model = build_model(x_train.shape[1], x_train.shape[2], x_train.shape[3])"
      ],
      "execution_count": 4,
      "outputs": [
        {
          "output_type": "stream",
          "text": [
            "(50000, 32, 32, 3)\n"
          ],
          "name": "stdout"
        }
      ]
    },
    {
      "cell_type": "code",
      "metadata": {
        "id": "pTdwmPEL585c",
        "colab_type": "code",
        "colab": {
          "base_uri": "https://localhost:8080/",
          "height": 1000
        },
        "outputId": "af87343c-0af1-4715-93f9-d02249c74422"
      },
      "source": [
        "from keras.callbacks import EarlyStopping\n",
        "early_stop = EarlyStopping(monitor='loss', patience=1, verbose=1)\n",
        "\n",
        "hist = model.fit(x_train, y_train, batch_size=32, epochs=100, verbose=1, shuffle=True, validation_split=0.1, callbacks=[early_stop])"
      ],
      "execution_count": 5,
      "outputs": [
        {
          "output_type": "stream",
          "text": [
            "Epoch 1/100\n",
            "1407/1407 [==============================] - 5s 3ms/step - loss: 1.6070 - accuracy: 0.4061 - val_loss: 1.3029 - val_accuracy: 0.5164\n",
            "Epoch 2/100\n",
            "1407/1407 [==============================] - 5s 3ms/step - loss: 1.2046 - accuracy: 0.5660 - val_loss: 1.2496 - val_accuracy: 0.5552\n",
            "Epoch 3/100\n",
            "1407/1407 [==============================] - 5s 3ms/step - loss: 1.0326 - accuracy: 0.6352 - val_loss: 0.9659 - val_accuracy: 0.6624\n",
            "Epoch 4/100\n",
            "1407/1407 [==============================] - 5s 3ms/step - loss: 0.9246 - accuracy: 0.6730 - val_loss: 0.9327 - val_accuracy: 0.6726\n",
            "Epoch 5/100\n",
            "1407/1407 [==============================] - 5s 3ms/step - loss: 0.8443 - accuracy: 0.7049 - val_loss: 0.8338 - val_accuracy: 0.7068\n",
            "Epoch 6/100\n",
            "1407/1407 [==============================] - 5s 3ms/step - loss: 0.7890 - accuracy: 0.7212 - val_loss: 0.8478 - val_accuracy: 0.7078\n",
            "Epoch 7/100\n",
            "1407/1407 [==============================] - 5s 3ms/step - loss: 0.7444 - accuracy: 0.7370 - val_loss: 0.8166 - val_accuracy: 0.7170\n",
            "Epoch 8/100\n",
            "1407/1407 [==============================] - 5s 3ms/step - loss: 0.6999 - accuracy: 0.7535 - val_loss: 0.8227 - val_accuracy: 0.7184\n",
            "Epoch 9/100\n",
            "1407/1407 [==============================] - 5s 3ms/step - loss: 0.6714 - accuracy: 0.7626 - val_loss: 0.8198 - val_accuracy: 0.7232\n",
            "Epoch 10/100\n",
            "1407/1407 [==============================] - 5s 3ms/step - loss: 0.6388 - accuracy: 0.7737 - val_loss: 0.8485 - val_accuracy: 0.7120\n",
            "Epoch 11/100\n",
            "1407/1407 [==============================] - 5s 3ms/step - loss: 0.6056 - accuracy: 0.7870 - val_loss: 0.8339 - val_accuracy: 0.7238\n",
            "Epoch 12/100\n",
            "1407/1407 [==============================] - 5s 3ms/step - loss: 0.5834 - accuracy: 0.7919 - val_loss: 0.8246 - val_accuracy: 0.7334\n",
            "Epoch 13/100\n",
            "1407/1407 [==============================] - 5s 3ms/step - loss: 0.5556 - accuracy: 0.8025 - val_loss: 0.8453 - val_accuracy: 0.7398\n",
            "Epoch 14/100\n",
            "1407/1407 [==============================] - 5s 3ms/step - loss: 0.5382 - accuracy: 0.8095 - val_loss: 0.8079 - val_accuracy: 0.7414\n",
            "Epoch 15/100\n",
            "1407/1407 [==============================] - 5s 3ms/step - loss: 0.5136 - accuracy: 0.8178 - val_loss: 0.8473 - val_accuracy: 0.7336\n",
            "Epoch 16/100\n",
            "1407/1407 [==============================] - 5s 3ms/step - loss: 0.4961 - accuracy: 0.8219 - val_loss: 0.9201 - val_accuracy: 0.7214\n",
            "Epoch 17/100\n",
            "1407/1407 [==============================] - 5s 3ms/step - loss: 0.4722 - accuracy: 0.8301 - val_loss: 0.8719 - val_accuracy: 0.7376\n",
            "Epoch 18/100\n",
            "1407/1407 [==============================] - 5s 3ms/step - loss: 0.4589 - accuracy: 0.8360 - val_loss: 0.9016 - val_accuracy: 0.7388\n",
            "Epoch 19/100\n",
            "1407/1407 [==============================] - 5s 3ms/step - loss: 0.4385 - accuracy: 0.8427 - val_loss: 0.8953 - val_accuracy: 0.7380\n",
            "Epoch 20/100\n",
            "1407/1407 [==============================] - 5s 3ms/step - loss: 0.4206 - accuracy: 0.8481 - val_loss: 0.9413 - val_accuracy: 0.7332\n",
            "Epoch 21/100\n",
            "1407/1407 [==============================] - 5s 3ms/step - loss: 0.4083 - accuracy: 0.8556 - val_loss: 1.0745 - val_accuracy: 0.7156\n",
            "Epoch 22/100\n",
            "1407/1407 [==============================] - 5s 3ms/step - loss: 0.4009 - accuracy: 0.8579 - val_loss: 0.9643 - val_accuracy: 0.7300\n",
            "Epoch 23/100\n",
            "1407/1407 [==============================] - 5s 3ms/step - loss: 0.3850 - accuracy: 0.8622 - val_loss: 1.0687 - val_accuracy: 0.7226\n",
            "Epoch 24/100\n",
            "1407/1407 [==============================] - 5s 3ms/step - loss: 0.3700 - accuracy: 0.8662 - val_loss: 1.0854 - val_accuracy: 0.7172\n",
            "Epoch 25/100\n",
            "1407/1407 [==============================] - 5s 3ms/step - loss: 0.3538 - accuracy: 0.8712 - val_loss: 1.0787 - val_accuracy: 0.7332\n",
            "Epoch 26/100\n",
            "1407/1407 [==============================] - 5s 3ms/step - loss: 0.3534 - accuracy: 0.8727 - val_loss: 1.0946 - val_accuracy: 0.7296\n",
            "Epoch 27/100\n",
            "1407/1407 [==============================] - 5s 3ms/step - loss: 0.3334 - accuracy: 0.8808 - val_loss: 1.1551 - val_accuracy: 0.7154\n",
            "Epoch 28/100\n",
            "1407/1407 [==============================] - 5s 3ms/step - loss: 0.3228 - accuracy: 0.8847 - val_loss: 1.2684 - val_accuracy: 0.7104\n",
            "Epoch 29/100\n",
            "1407/1407 [==============================] - 5s 3ms/step - loss: 0.3301 - accuracy: 0.8823 - val_loss: 1.1971 - val_accuracy: 0.7190\n",
            "Epoch 00029: early stopping\n"
          ],
          "name": "stdout"
        }
      ]
    },
    {
      "cell_type": "code",
      "metadata": {
        "id": "BqlIMzDz6dBO",
        "colab_type": "code",
        "colab": {
          "base_uri": "https://localhost:8080/",
          "height": 53
        },
        "outputId": "30f41b92-9dd6-4b50-e3b9-6cdb7248d3bf"
      },
      "source": [
        "model.evaluate(x_test, y_test, verbose=1)"
      ],
      "execution_count": 6,
      "outputs": [
        {
          "output_type": "stream",
          "text": [
            "313/313 [==============================] - 1s 2ms/step - loss: 1.1989 - accuracy: 0.7169\n"
          ],
          "name": "stdout"
        },
        {
          "output_type": "execute_result",
          "data": {
            "text/plain": [
              "[1.1989048719406128, 0.7168999910354614]"
            ]
          },
          "metadata": {
            "tags": []
          },
          "execution_count": 6
        }
      ]
    },
    {
      "cell_type": "code",
      "metadata": {
        "id": "2Da0TA6N6iGm",
        "colab_type": "code",
        "colab": {
          "base_uri": "https://localhost:8080/",
          "height": 281
        },
        "outputId": "3f5f1bbf-8c02-4cf2-a6ae-76ecd58343c6"
      },
      "source": [
        "plt.plot(hist.history['accuracy'])\n",
        "plt.title(\"accuracy history\")\n",
        "plt.show()"
      ],
      "execution_count": 7,
      "outputs": [
        {
          "output_type": "display_data",
          "data": {
            "image/png": "[encoded data removed]",
            "text/plain": [
              "<Figure size 432x288 with 1 Axes>"
            ]
          },
          "metadata": {
            "tags": [],
            "needs_background": "light"
          }
        }
      ]
    },
    {
      "cell_type": "code",
      "metadata": {
        "id": "st-9e5-h8Yoo",
        "colab_type": "code",
        "colab": {
          "base_uri": "https://localhost:8080/",
          "height": 281
        },
        "outputId": "679da4d2-cf25-4c72-dd47-ae2209f4a371"
      },
      "source": [
        "plt.plot(hist.history['loss'])\n",
        "plt.title('loss history')\n",
        "plt.show()"
      ],
      "execution_count": 8,
      "outputs": [
        {
          "output_type": "display_data",
          "data": {
            "image/png": "[encoded data removed]",
            "text/plain": [
              "<Figure size 432x288 with 1 Axes>"
            ]
          },
          "metadata": {
            "tags": [],
            "needs_background": "light"
          }
        }
      ]
    }
  ]
}